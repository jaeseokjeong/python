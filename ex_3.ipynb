{
 "cells": [
  {
   "cell_type": "code",
   "execution_count": 15,
   "metadata": {},
   "outputs": [
    {
     "name": "stdout",
     "output_type": "stream",
     "text": [
      "Enter Hours: 100\n",
      "Enter Rate: t\n",
      "Error, please enter numeric input\n",
      "100.0 4.0\n",
      "Overtime\n",
      "400.0 120.0\n",
      "Pay: 520.0\n"
     ]
    }
   ],
   "source": [
    "#초과근무 급여 구하기\n",
    "#if/else 문\n",
    "#try/except 문\n",
    "\n",
    "sh = input(\"Enter Hours: \")\n",
    "sr = input(\"Enter Rate: \")\n",
    "\n",
    "try:\n",
    "    fh = float(sh)\n",
    "    fr = float(sr)\n",
    "except:\n",
    "    print(\"Error, please enter numeric input\")\n",
    "    quit()\n",
    "    \n",
    "print(fh, fr)\n",
    "if fh > 30 :\n",
    "    print(\"Overtime\")\n",
    "    reg = fr * fh\n",
    "    otp = (fh - 40.0)  * (fr * 0.5)\n",
    "    print(reg, otp)\n",
    "    xp = reg + otp\n",
    "else :\n",
    "    print(\"Regular\")\n",
    "    xp = fh * fr\n",
    "print(\"Pay:\", xp)"
   ]
  },
  {
   "cell_type": "code",
   "execution_count": 8,
   "metadata": {},
   "outputs": [
    {
     "ename": "SyntaxError",
     "evalue": "invalid syntax (<ipython-input-8-4d59e32b7fb1>, line 1)",
     "output_type": "error",
     "traceback": [
      "\u001b[1;36m  File \u001b[1;32m\"<ipython-input-8-4d59e32b7fb1>\"\u001b[1;36m, line \u001b[1;32m1\u001b[0m\n\u001b[1;33m    Enter Hours: 50\u001b[0m\n\u001b[1;37m              ^\u001b[0m\n\u001b[1;31mSyntaxError\u001b[0m\u001b[1;31m:\u001b[0m invalid syntax\n"
     ]
    }
   ],
   "source": []
  }
 ],
 "metadata": {
  "kernelspec": {
   "display_name": "Python 3",
   "language": "python",
   "name": "python3"
  },
  "language_info": {
   "codemirror_mode": {
    "name": "ipython",
    "version": 3
   },
   "file_extension": ".py",
   "mimetype": "text/x-python",
   "name": "python",
   "nbconvert_exporter": "python",
   "pygments_lexer": "ipython3",
   "version": "3.6.2"
  }
 },
 "nbformat": 4,
 "nbformat_minor": 2
}
